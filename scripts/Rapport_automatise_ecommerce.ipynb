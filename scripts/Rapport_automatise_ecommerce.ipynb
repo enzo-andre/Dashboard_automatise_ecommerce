{
  "nbformat": 4,
  "nbformat_minor": 0,
  "metadata": {
    "colab": {
      "provenance": []
    },
    "kernelspec": {
      "name": "python3",
      "display_name": "Python 3"
    },
    "language_info": {
      "name": "python"
    }
  },
  "cells": [
    {
      "cell_type": "code",
      "execution_count": 11,
      "metadata": {
        "id": "h4sB1t9qGxPb"
      },
      "outputs": [],
      "source": [
        "import pandas as pd\n",
        "import plotly.express as px\n",
        "import base64\n",
        "import pdfkit\n",
        "from jinja2 import Environment, FileSystemLoader\n",
        "import argparse"
      ]
    },
    {
      "cell_type": "code",
      "source": [
        "def parse_args():\n",
        "    p = argparse.ArgumentParser()\n",
        "    p.add_argument('--input','-i',   default='Amazon Sale Report.csv', help=\"Chemin du CSV\")\n",
        "    p.add_argument('--width',  type=int, default=1600,             help=\"Largeur des images\")\n",
        "    p.add_argument('--height', type=int, default=800,              help=\"Hauteur des images\")\n",
        "    p.add_argument('--scale',  type=int, default=2,                help=\"Échelle des images\")\n",
        "    args, _ = p.parse_known_args()\n",
        "    return args"
      ],
      "metadata": {
        "id": "vbbjBE_3H4wX"
      },
      "execution_count": 32,
      "outputs": []
    },
    {
      "cell_type": "code",
      "source": [
        "def load_data(path_csv):\n",
        "    df = pd.read_csv(path_csv, low_memory=False)\n",
        "    df.columns = df.columns.str.strip()\n",
        "    df['Date'] = pd.to_datetime(df['Date'], errors='coerce')\n",
        "    return df\n",
        "\n",
        "# Récupèration des périodes mensuelles\n",
        "def get_periods(df):\n",
        "    return (\n",
        "        df['Date']\n",
        "          .dt.to_period('M')\n",
        "          .dropna()\n",
        "          .drop_duplicates()\n",
        "          .sort_values()\n",
        "    )\n",
        "\n",
        "# Calcul KPIs pour un sous-DataFrame d’un mois\n",
        "def compute_kpis(df_mois):\n",
        "    ca     = df_mois['Amount'].sum()\n",
        "    orders = df_mois['Order ID'].nunique()\n",
        "    qty    = df_mois['Qty'].sum()\n",
        "    profit = df_mois['Profit'].sum() if 'Profit' in df_mois else None\n",
        "    return ca, orders, qty, profit\n",
        "\n",
        "# Génération et export des figures\n",
        "def make_plots(df_mois, year, month, month_name, width, height, scale):\n",
        "    def encode_png(path):\n",
        "        with open(path, \"rb\") as f:\n",
        "            return \"data:image/png;base64,\" + base64.b64encode(f.read()).decode()\n",
        "\n",
        "    daily = (\n",
        "      df_mois.groupby(df_mois['Date'].dt.date)['Amount']\n",
        "            .sum().rename('Montant')\n",
        "    )\n",
        "\n",
        "    start = f\"{year}-{month:02d}-01\"\n",
        "    end   = (pd.to_datetime(start) + pd.offsets.MonthEnd()).date()\n",
        "    all_days = pd.date_range(start, end, freq='D').date\n",
        "    daily = daily.reindex(all_days, fill_value=0).reset_index().rename(columns={'index':'Date'})\n",
        "    fig_daily = px.line(daily, x='Date', y='Montant',\n",
        "                        title=f\"Ventes quotidiennes — {month_name} {year}\", markers=True)\n",
        "    fn_daily = f\"daily_{year}_{month:02d}.png\"\n",
        "    fig_daily.write_image(fn_daily, width=1400, height=600, scale=2)\n",
        "\n",
        "    # catégorie\n",
        "    cat = df_mois.groupby('Category', as_index=False)['Amount'].sum()\\\n",
        "                 .sort_values('Amount', ascending=False)\n",
        "    fig_cat = px.bar(cat, x='Category', y='Amount',\n",
        "                     title=f\"CA par catégorie — {month_name} {year}\")\n",
        "    fn_cat = f\"cat_{year}_{month:02d}.png\"\n",
        "    fig_cat.write_image(fn_cat, width=1400, height=600, scale=2)\n",
        "\n",
        "    # canal\n",
        "    chan = df_mois.groupby('Sales Channel', as_index=False)['Amount'].sum()\\\n",
        "                  .sort_values('Amount', ascending=False)\n",
        "    fig_chan = px.pie(chan, names='Sales Channel', values='Amount',\n",
        "                      title=f\"Répartition du CA par canal — {month_name} {year}\")\n",
        "    fn_chan = f\"chan_{year}_{month:02d}.png\"\n",
        "    fig_chan.write_image(fn_chan, width=1400, height=600, scale=2)\n",
        "\n",
        "    # top5\n",
        "    top5 = df_mois.groupby('Style', as_index=False)['Amount'].sum()\\\n",
        "                  .nlargest(5, 'Amount')\n",
        "    fig_top5 = px.bar(top5, x='Style', y='Amount',\n",
        "                      title=f\"Top 5 styles — {month_name} {year}\")\n",
        "    fn_top5 = f\"top5_{year}_{month:02d}.png\"\n",
        "    fig_top5.write_image(fn_top5, width=1400, height=600, scale=2)\n",
        "\n",
        "    # base64\n",
        "    return {\n",
        "        'img_daily': encode_png(fn_daily),\n",
        "        'img_cat':   encode_png(fn_cat),\n",
        "        'img_chan':  encode_png(fn_chan),\n",
        "        'img_top5':  encode_png(fn_top5)\n",
        "    }\n",
        "\n",
        "# Rapport HTML+PDF\n",
        "def render_and_save(period, kpis, images_b64, template, config, options):\n",
        "    month_name = period.strftime('%B')\n",
        "    year, month = period.year, period.month\n",
        "    ca, orders, qty, profit = kpis\n",
        "\n",
        "    html = template.render(\n",
        "        month_name=month_name,\n",
        "        year=year,\n",
        "        ca_total=f\"{ca:,.0f}\",\n",
        "        orders=orders,\n",
        "        qty=qty,\n",
        "        profit=f\"{profit:,.0f}\" if profit is not None else \"-\",\n",
        "        **images_b64\n",
        "    )\n",
        "    html_path = f\"report_{year}_{month:02d}.html\"\n",
        "    with open(html_path, \"w\", encoding=\"utf-8\") as f:\n",
        "        f.write(html)\n",
        "\n",
        "    pdf_path = html_path.replace(\".html\", \".pdf\")\n",
        "    pdfkit.from_file(html_path, pdf_path, configuration=config, options=options)\n",
        "    print(f\"✔ Rapport généré pour {month_name} {year} → {pdf_path}\")"
      ],
      "metadata": {
        "id": "qDLQQkctIcxc"
      },
      "execution_count": 33,
      "outputs": []
    },
    {
      "cell_type": "code",
      "source": [
        "args    = parse_args()\n",
        "\n",
        "df      = load_data(args.input)\n",
        "periods = get_periods(df)\n",
        "\n",
        "# Paramètres de résolution depuis la CLI\n",
        "IMG_WIDTH  = args.width\n",
        "IMG_HEIGHT = args.height\n",
        "IMG_SCALE  = args.scale\n",
        "\n",
        "# Générer un rapport par mois\n",
        "for period in periods:\n",
        "    year       = period.year\n",
        "    month      = period.month\n",
        "    month_name = period.strftime('%B')\n",
        "\n",
        "    df_mois = df[df['Date'].dt.to_period('M') == period]\n",
        "    if df_mois.empty:\n",
        "        continue\n",
        "\n",
        "    kpis = compute_kpis(df_mois)\n",
        "\n",
        "    images_b64 = make_plots(\n",
        "        df_mois,\n",
        "        year,\n",
        "        month,\n",
        "        month_name,\n",
        "        width=IMG_WIDTH,\n",
        "        height=IMG_HEIGHT,\n",
        "        scale=IMG_SCALE\n",
        "    )\n",
        "\n",
        "    render_and_save(period, kpis, images_b64, tpl, config, options)"
      ],
      "metadata": {
        "id": "cbaOx162In_H",
        "colab": {
          "base_uri": "https://localhost:8080/"
        },
        "outputId": "bc109b4d-19bd-41ff-9458-9af99c45926c"
      },
      "execution_count": 34,
      "outputs": [
        {
          "output_type": "stream",
          "name": "stderr",
          "text": [
            "<ipython-input-33-1816741713>:5: UserWarning:\n",
            "\n",
            "Could not infer format, so each element will be parsed individually, falling back to `dateutil`. To ensure parsing is consistent and as-expected, please specify a format.\n",
            "\n"
          ]
        },
        {
          "output_type": "stream",
          "name": "stdout",
          "text": [
            "✔ Rapport généré pour March 2022 → report_2022_03.pdf\n",
            "✔ Rapport généré pour April 2022 → report_2022_04.pdf\n",
            "✔ Rapport généré pour May 2022 → report_2022_05.pdf\n",
            "✔ Rapport généré pour June 2022 → report_2022_06.pdf\n"
          ]
        }
      ]
    }
  ]
}